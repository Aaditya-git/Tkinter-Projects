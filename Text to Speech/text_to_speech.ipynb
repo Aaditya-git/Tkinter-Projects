import tkinter as tk
from tkinter import *
import os #to remove audio file
from gtts import gTTS #google text to speech
from playsound import playsound
#==========================================================================
#all necessary imports

# to overwrite the audio file , if we dont remove previous file then
# program will only run one time
def complete():
    os.remove('audio.mp3')


def speak():
    address_info = text.get()
    # code for hindi language
    language = 'hi'
    myobj = gTTS(text=address_info, lang=language, slow=False)
    myobj.save("audio.mp3")
    playsound("audio.mp3")
    #delete entry in the box after execution.
    entry_box.delete(0,END)
    #function call to remove audio file
    complete()


root = Tk()
text = StringVar()
# create a frame around output window
frame = LabelFrame(root, text="Text to Audio Converter",bg='cyan',font=('helvetica',10,'bold'))
frame.pack(padx=10,pady=10)

label = Label(frame,text="WRITE TEXT.",bg='Red',font=('helvetica',15,'bold'))
label.pack()

entry_box = Entry(frame,textvariable = text,font=30,width=50)
entry_box.pack(padx=15,pady=15)

button = Button(frame, text="SPEAK TKINTER",bg='orange',font=('helvetica',13,'bold'),command=speak)
button.pack(pady=10)
#pady padx paddings are for space in between the buttons, text field.

# =====================================================================
root.title("Text to speech converter")
root.geometry("500x200")
root.resizable(False,False)
root.mainloop()
